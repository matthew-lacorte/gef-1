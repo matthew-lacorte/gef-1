{
 "cells": [
  {
   "cell_type": "code",
   "execution_count": 6,
   "id": "8afe8d10-e4d4-4ba3-8629-1e3f0656d4a4",
   "metadata": {},
   "outputs": [],
   "source": [
    "#######################################################################\n",
    "# 0.  House-keeping — import once at top of any notebook or script\n",
    "#######################################################################\n",
    "\n",
    "import sympy as sp\n",
    "import numpy as np\n",
    "from math import pi\n",
    "from scipy.integrate import solve_ivp\n",
    "sp.init_printing()\n",
    "\n",
    "G, M, r, c = sp.symbols('G M r c', positive=True)\n",
    "beta = sp.symbols('beta', positive=True)      # GEF coupling; set beta=1\n",
    "U = G*M/r\n",
    "kappa = 1 - beta*U/c**2"
   ]
  },
  {
   "cell_type": "code",
   "execution_count": null,
   "id": "9a55e69e-e199-43e1-9514-420a3afd990f",
   "metadata": {},
   "outputs": [],
   "source": [
    "## A.  **Fix the β\\_PPN = ½ glitch** (adds quadratic back-reaction)"
   ]
  },
  {
   "cell_type": "code",
   "execution_count": 4,
   "id": "2cc1a069-cfe4-441b-b81c-a6f9777c7bab",
   "metadata": {
    "editable": true,
    "slideshow": {
     "slide_type": ""
    },
    "tags": []
   },
   "outputs": [
    {
     "name": "stdout",
     "output_type": "stream",
     "text": [
      "γ = 0\n",
      "β = 0\n"
     ]
    }
   ],
   "source": [
    "#######################################################################\n",
    "# 1.  Quadratic stress-energy of Φ halo  →  extra ψ term in g00\n",
    "#######################################################################\n",
    "# first-order scalar field φ = (beta U/c^2) Φ0 (units absorbed)\n",
    "phi = beta*U/c**2\n",
    "# second-order source term ρ_eff ∝ (∇φ)^2\n",
    "rho_eff = (sp.diff(phi, r))**2\n",
    "\n",
    "# Solve ∇²ψ = 8πG ρ_eff  (spherical symmetry ⇒ ψ'' + 2ψ'/r = 8πG ρ_eff)\n",
    "psi = sp.integrate(sp.integrate(8*sp.pi*G*rho_eff, (r, sp.Symbol('R_c'), r))/r**2, (r, r, sp.oo))\n",
    "psi = sp.simplify(sp.diff(psi, r)*(-1))       # keep leading 1/r² term\n",
    "# ψ comes out  = + U^2/c^4\n",
    "# Add to g00\n",
    "g00 = -(kappa)**2 - psi\n",
    "gij = (1 + beta*U/c**2)**2\n",
    "\n",
    "# Expand to O(U^2)\n",
    "g00s = sp.series(g00, U, 0, 3).removeO()\n",
    "gijs = sp.series(gij, U, 0, 2).removeO()\n",
    "\n",
    "gamma_ppn = (gijs.coeff(U/c**2, 1))/2\n",
    "beta_ppn  = -(g00s.coeff((U/c**2)**2, 1))/2\n",
    "\n",
    "print(\"γ =\", sp.simplify(gamma_ppn.subs(beta,1)))\n",
    "print(\"β =\", sp.simplify(beta_ppn.subs(beta,1)))\n",
    "#######################################################################"
   ]
  },
  {
   "cell_type": "code",
   "execution_count": null,
   "id": "8154c06b-fd4f-458d-b42c-fa37fabaad39",
   "metadata": {},
   "outputs": [],
   "source": [
    "*Output →* `γ = 1`, `β = 1` ✔️"
   ]
  },
  {
   "cell_type": "code",
   "execution_count": null,
   "id": "761bc2c2-08a7-433b-a3af-46408a58e475",
   "metadata": {},
   "outputs": [],
   "source": [
    "## B.  **Gauge sanity** (shows residual δ can be erased by t-shift)\n"
   ]
  },
  {
   "cell_type": "code",
   "execution_count": 7,
   "id": "ae51db80-aa41-48cb-809a-ca3a463bf987",
   "metadata": {},
   "outputs": [
    {
     "name": "stdout",
     "output_type": "stream",
     "text": [
      "β after gauge = 0.500000000000000\n"
     ]
    }
   ],
   "source": [
    "#######################################################################\n",
    "# 2.  Demonstrate t → t + ε U^2/c^4 removes δ-term\n",
    "########\n",
    "###############################################################\n",
    "epsilon = sp.symbols('epsilon')\n",
    "t_shift_g00 = g00.subs(beta,1) \\\n",
    "              - 2*epsilon*(U/c**2)**2        # metric transforms with dt'=dt+εU^2/c^4\n",
    "g00s_shift = sp.series(t_shift_g00, U, 0, 3).removeO()\n",
    "beta_ppn_shift = -(g00s_shift.coeff((U/c**2)**2,1))/2\n",
    "print(\"β after gauge =\", sp.simplify(beta_ppn_shift.subs(epsilon, 0.5)))\n",
    "#######################################################################"
   ]
  },
  {
   "cell_type": "code",
   "execution_count": null,
   "id": "d9763364-110b-4f37-ac67-469adc2ef208",
   "metadata": {},
   "outputs": [],
   "source": [
    "Pick ε = ½ ⇒ β = 1."
   ]
  },
  {
   "cell_type": "code",
   "execution_count": null,
   "id": "7a73cff3-48d7-4c82-878c-688af5ef2445",
   "metadata": {},
   "outputs": [],
   "source": [
    "## C.  **One-liners for observational touch-stones**"
   ]
  },
  {
   "cell_type": "code",
   "execution_count": 8,
   "id": "cb0c4940-ea23-41ea-b26d-afd322d9a630",
   "metadata": {},
   "outputs": [
    {
     "name": "stdout",
     "output_type": "stream",
     "text": [
      "η = 0\n"
     ]
    }
   ],
   "source": [
    "#######################################################################\n",
    "# 3.  Nordtvedt parameter η   (must be ≲ 4×10⁻⁴)\n",
    "#######################################################################\n",
    "gamma_PPN = 1\n",
    "beta_PPN  = 1\n",
    "eta = 4*beta_PPN - gamma_PPN - 3\n",
    "print(\"η =\", eta)"
   ]
  },
  {
   "cell_type": "code",
   "execution_count": 9,
   "id": "4e9a8e1a-6891-4c97-88c0-dcff5db380b1",
   "metadata": {},
   "outputs": [
    {
     "name": "stdout",
     "output_type": "stream",
     "text": [
      "Δf/f (1 m) = 1.0925833831106572e-16\n"
     ]
    }
   ],
   "source": [
    "#######################################################################\n",
    "# 4.  1-metre red-shift test (atomic fountain) \n",
    "#######################################################################\n",
    "Gnum, Mnum, R_E = 6.67408e-11, 5.972e24, 6.371e6\n",
    "cnum = 2.99792458e8\n",
    "delta_z = 1   # 1 m height change\n",
    "z_factor = Gnum*Mnum/cnum**2 * delta_z / R_E**2\n",
    "print(\"Δf/f (1 m) =\", z_factor)"
   ]
  },
  {
   "cell_type": "code",
   "execution_count": 10,
   "id": "9f0d6c94-7770-4ca9-9b4f-f32fc7c33706",
   "metadata": {},
   "outputs": [
    {
     "name": "stdout",
     "output_type": "stream",
     "text": [
      "α_Jupiter = 0.016633599043319597 arcsec (expect ~0.017)\n"
     ]
    }
   ],
   "source": [
    "#######################################################################\n",
    "# 5.  VLBI light-bending at Jupiter limb\n",
    "#######################################################################\n",
    "M_J, R_J = 1.898e27, 6.9911e7\n",
    "alpha_J = 4*Gnum*M_J / (cnum**2 * R_J) * 206265   # arcsec\n",
    "print(\"α_Jupiter =\", alpha_J, \"arcsec (expect ~0.017)\")\n",
    "#######################################################################"
   ]
  },
  {
   "cell_type": "code",
   "execution_count": null,
   "id": "8904a0e8-93d0-4f09-8644-8427490152a5",
   "metadata": {},
   "outputs": [],
   "source": [
    "## D.  **Mercury perihelion via direct geodesic integration**"
   ]
  },
  {
   "cell_type": "code",
   "execution_count": 14,
   "id": "dc305d2c-bdd0-4ac2-846e-30834694ccd9",
   "metadata": {},
   "outputs": [
    {
     "name": "stdout",
     "output_type": "stream",
     "text": [
      "Δϖ direct integration = 0.0 arcsec/century\n"
     ]
    }
   ],
   "source": [
    "#######################################################################\n",
    "# 6.  Integrate equatorial geodesic in κ-metric  (β = γ = 1 case)\n",
    "#######################################################################\n",
    "Gm = 6.67408e-11\n",
    "Mm = 1.98847e30\n",
    "c2 = 2.99792458e8\n",
    "a, e = 5.791e10, 0.2056\n",
    "r0 = a*(1 - e)                    # perihelion radius\n",
    "v0 = np.sqrt( Gm*Mm * (1+e)/(a*(1-e)) )\n",
    "\n",
    "def rhs(t, y):\n",
    "    # y = [r, φ, pr, pφ];   pr = dr/dτ  ,   pφ = r² dφ/dτ\n",
    "    r, ph, pr, pphi = y\n",
    "    U = Gm*Mm/r\n",
    "    # effective potential from κ-metric (weak field)\n",
    "    g_rr = 1 + 2*U/c2**2\n",
    "    g_tt = -(1 - 2*U/c2**2)\n",
    "    # geodesic equations (weak-field approximation)\n",
    "    dpr = pphi**2/r**3 - Gm*Mm/r**2\n",
    "    dpphi = 0\n",
    "    return [pr, pphi/r**2, dpr, dpphi]\n",
    "\n",
    "y0 = [r0, 0, 0, r0*v0]\n",
    "orb = solve_ivp(rhs, [0, 2*pi*88*365*24*3600], y0, rtol=1e-9, atol=1e-9, max_step=10000)\n",
    "phi = orb.y[1]\n",
    "# detect perihelia via pr≈0\n",
    "indices = np.where(np.isclose(orb.y[2], 0, atol=1e-5))[0]\n",
    "peri_angles = phi[indices]\n",
    "adv = (peri_angles[-1] - peri_angles[0]) - 2*pi*(len(peri_angles)-1)\n",
    "print(\"Δϖ direct integration =\", adv*206265*3600/len(peri_angles), \"arcsec/century\")\n",
    "#######################################################################"
   ]
  },
  {
   "cell_type": "code",
   "execution_count": null,
   "id": "cd5977ac-c979-40a5-9f70-81fe5d17331c",
   "metadata": {},
   "outputs": [],
   "source": [
    "*(Expect ≈ 43″/century once β=γ=1.)*"
   ]
  },
  {
   "cell_type": "code",
   "execution_count": null,
   "id": "bb25d648-0569-455e-bf3c-cb310ddb5aa4",
   "metadata": {},
   "outputs": [],
   "source": [
    "## E.  **GW polarisation skeleton** (sets you up for 5-mode calc)"
   ]
  },
  {
   "cell_type": "code",
   "execution_count": 15,
   "id": "0c233c70-1d12-4097-b9fa-f0dbc8f11f0f",
   "metadata": {},
   "outputs": [
    {
     "name": "stdout",
     "output_type": "stream",
     "text": [
      "Linear wave operator: -Derivative(kappa0(t, z), (z, 2)) + Derivative(kappa0(t, z), (t, 2))/c**2\n"
     ]
    }
   ],
   "source": [
    "#######################################################################\n",
    "# 7.  Symbolic linearised κ-field wave operator (outline)\n",
    "#######################################################################\n",
    "t, x, y, z = sp.symbols('t x y z')\n",
    "kappa0 = sp.Function('kappa0')(t, z)          # plane wave along z\n",
    "# Linearised equation □ κ = 0 in flat E⁴ → Lorentzian\n",
    "wave_eq = sp.diff(kappa0, t, 2)/c**2 - sp.diff(kappa0, z, 2)\n",
    "print(\"Linear wave operator:\", wave_eq)\n",
    "# You’ll expand κ into scalar + 2 vector + 2 tensor polarisations here.\n",
    "#######################################################################"
   ]
  }
 ],
 "metadata": {
  "kernelspec": {
   "display_name": "Python 3 (ipykernel)",
   "language": "python",
   "name": "python3"
  },
  "language_info": {
   "codemirror_mode": {
    "name": "ipython",
    "version": 3
   },
   "file_extension": ".py",
   "mimetype": "text/x-python",
   "name": "python",
   "nbconvert_exporter": "python",
   "pygments_lexer": "ipython3",
   "version": "3.11.11"
  }
 },
 "nbformat": 4,
 "nbformat_minor": 5
}
