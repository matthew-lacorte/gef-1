{
 "cells": [
  {
   "cell_type": "code",
   "execution_count": null,
   "id": "a2ab6cac-e159-4892-a376-4610979820c8",
   "metadata": {},
   "outputs": [],
   "source": [
    "# PPN Extraction\n",
    "### Now with gravity = time logic as the engine."
   ]
  },
  {
   "cell_type": "code",
   "execution_count": 2,
   "id": "1ca6258b-1fe5-4b17-b569-c5578e90b023",
   "metadata": {},
   "outputs": [
    {
     "name": "stdout",
     "output_type": "stream",
     "text": [
      "γ_PPN = 1\n",
      "β_PPN = delta/2 + 1/2\n"
     ]
    }
   ],
   "source": [
    "import sympy as sp\n",
    "\n",
    "# Symbols\n",
    "G, M, r, c = sp.symbols('G M r c', positive=True)\n",
    "beta = sp.symbols('beta', positive=True)      # coupling; set beta=1 later\n",
    "\n",
    "U = G*M/r\n",
    "kappa = 1 - beta*U/c**2\n",
    "\n",
    "delta = sp.symbols('delta')      # expect delta ≈ beta\n",
    "g00 = -(1 - beta*U/c**2)**2 - delta*(U/c**2)**2\n",
    "gij = (1 + beta*U/c**2)**2     # spatial prefactor\n",
    "\n",
    "# Expand\n",
    "g00s = sp.series(g00, U, 0, 3).removeO()\n",
    "gijs = sp.series(gij, U, 0, 2).removeO()\n",
    "\n",
    "# Extract PPN parameters properly\n",
    "gamma_ppn = (gijs.expand().coeff(U/c**2, 1)) / 2          # divide by 2\n",
    "beta_ppn  = -(g00s.expand().coeff((U/c**2)**2, 1)) / 2    # divide by –2\n",
    "\n",
    "print(\"γ_PPN =\", sp.simplify(gamma_ppn.subs(beta, 1)))\n",
    "print(\"β_PPN =\", sp.simplify(beta_ppn.subs(beta, 1)))\n"
   ]
  },
  {
   "cell_type": "code",
   "execution_count": null,
   "id": "0b9c4b3d-ed98-4e50-aef3-209c823cb130",
   "metadata": {},
   "outputs": [],
   "source": [
    "# k_modulation"
   ]
  },
  {
   "cell_type": "code",
   "execution_count": 3,
   "id": "29543cce-0a5c-4cda-85a9-f5093f342633",
   "metadata": {},
   "outputs": [
    {
     "name": "stdout",
     "output_type": "stream",
     "text": [
      "Δf/f = 5.27917027988e-10\n"
     ]
    }
   ],
   "source": [
    "import sympy as sp\n",
    "\n",
    "# symbols & constants\n",
    "G, M, r1, r2, c = sp.symbols('G M r1 r2 c', positive=True)\n",
    "\n",
    "# Newtonian potential\n",
    "U1 = G*M/r1\n",
    "U2 = G*M/r2\n",
    "\n",
    "# kappa-induced clock factor\n",
    "z = (1 - U2/c**2)/(1 - U1/c**2) - 1   # fractional red-shift\n",
    "\n",
    "# Quick numeric example: Earth surface to 20 000 km GPS orbit\n",
    "num = {\n",
    "    G: 6.67408e-11,\n",
    "    M: 5.972e24,\n",
    "    r1: 6.371e6,\n",
    "    r2: 2.6371e7,\n",
    "    c: 2.99792458e8\n",
    "}\n",
    "print(\"Δf/f =\", sp.N(z.subs(num), 12))"
   ]
  },
  {
   "cell_type": "code",
   "execution_count": null,
   "id": "ed157a57-faac-4d2e-8f18-caae699e15b8",
   "metadata": {},
   "outputs": [],
   "source": [
    "# Bending Light"
   ]
  },
  {
   "cell_type": "code",
   "execution_count": 4,
   "id": "180c2499-12c2-471c-bc92-d1b35a7d2b32",
   "metadata": {},
   "outputs": [
    {
     "name": "stdout",
     "output_type": "stream",
     "text": [
      "Δϖ = 42.958367264957694 arcsec/century\n"
     ]
    }
   ],
   "source": [
    "from math import pi\n",
    "\n",
    "G  = 6.67408e-11\n",
    "M  = 1.98847e30           # Sun mass\n",
    "a  = 5.791e10             # Merc. semi-major axis  (m)\n",
    "e  = 0.2056               # Merc. eccentricity\n",
    "c  = 2.99792458e8\n",
    "\n",
    "# GR / PPN advance per orbit (rad)\n",
    "dphi = 6*pi*G*M/(c**2 * a*(1 - e**2))\n",
    "# convert to arcsec per century (415 orbits / century)\n",
    "advance_arcsec = dphi * 206265 * 415\n",
    "print(\"Δϖ =\", advance_arcsec, \"arcsec/century\")"
   ]
  },
  {
   "cell_type": "code",
   "execution_count": null,
   "id": "d9397b99-af5e-41e3-81c9-b33be5d00b51",
   "metadata": {},
   "outputs": [],
   "source": [
    "# Century Enhancement"
   ]
  },
  {
   "cell_type": "code",
   "execution_count": 5,
   "id": "5e7fb6f0-fc81-4e9f-89c1-aebc41152a08",
   "metadata": {},
   "outputs": [
    {
     "name": "stdout",
     "output_type": "stream",
     "text": [
      "Δϖ = 42.958367264957694 arcsec/century\n"
     ]
    }
   ],
   "source": [
    "from math import pi\n",
    "\n",
    "G  = 6.67408e-11\n",
    "M  = 1.98847e30           # Sun mass\n",
    "a  = 5.791e10             # Merc. semi-major axis  (m)\n",
    "e  = 0.2056               # Merc. eccentricity\n",
    "c  = 2.99792458e8\n",
    "\n",
    "# GR / PPN advance per orbit (rad)\n",
    "dphi = 6*pi*G*M/(c**2 * a*(1 - e**2))\n",
    "# convert to arcsec per century (415 orbits / century)\n",
    "advance_arcsec = dphi * 206265 * 415\n",
    "print(\"Δϖ =\", advance_arcsec, \"arcsec/century\")"
   ]
  },
  {
   "cell_type": "code",
   "execution_count": null,
   "id": "bce333eb-3b21-4eed-a171-5bfaa3c7a93d",
   "metadata": {},
   "outputs": [],
   "source": []
  }
 ],
 "metadata": {
  "kernelspec": {
   "display_name": "Python 3 (ipykernel)",
   "language": "python",
   "name": "python3"
  },
  "language_info": {
   "codemirror_mode": {
    "name": "ipython",
    "version": 3
   },
   "file_extension": ".py",
   "mimetype": "text/x-python",
   "name": "python",
   "nbconvert_exporter": "python",
   "pygments_lexer": "ipython3",
   "version": "3.11.11"
  }
 },
 "nbformat": 4,
 "nbformat_minor": 5
}
