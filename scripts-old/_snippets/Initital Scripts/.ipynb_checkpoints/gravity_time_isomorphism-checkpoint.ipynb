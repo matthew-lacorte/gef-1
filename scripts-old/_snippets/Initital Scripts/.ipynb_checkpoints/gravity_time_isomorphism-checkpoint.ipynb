{
 "cells": [
  {
   "cell_type": "code",
   "execution_count": null,
   "id": "a2ab6cac-e159-4892-a376-4610979820c8",
   "metadata": {},
   "outputs": [],
   "source": [
    "# PPN Extraction\n",
    "### Now with gravity = time logic as the engine."
   ]
  },
  {
   "cell_type": "code",
   "execution_count": 2,
   "id": "1ca6258b-1fe5-4b17-b569-c5578e90b023",
   "metadata": {},
   "outputs": [
    {
     "name": "stdout",
     "output_type": "stream",
     "text": [
      "γ_PPN = 1\n",
      "β_PPN = delta/2 + 1/2\n"
     ]
    }
   ],
   "source": [
    "import sympy as sp\n",
    "\n",
    "# Symbols\n",
    "G, M, r, c = sp.symbols('G M r c', positive=True)\n",
    "beta = sp.symbols('beta', positive=True)      # coupling; set beta=1 later\n",
    "\n",
    "U = G*M/r\n",
    "kappa = 1 - beta*U/c**2\n",
    "\n",
    "delta = sp.symbols('delta')      # expect delta ≈ beta\n",
    "g00 = -(1 - beta*U/c**2)**2 - delta*(U/c**2)**2\n",
    "gij = (1 + beta*U/c**2)**2     # spatial prefactor\n",
    "\n",
    "# Expand\n",
    "g00s = sp.series(g00, U, 0, 3).removeO()\n",
    "gijs = sp.series(gij, U, 0, 2).removeO()\n",
    "\n",
    "# Extract PPN parameters properly\n",
    "gamma_ppn = (gijs.expand().coeff(U/c**2, 1)) / 2          # divide by 2\n",
    "beta_ppn  = -(g00s.expand().coeff((U/c**2)**2, 1)) / 2    # divide by –2\n",
    "\n",
    "print(\"γ_PPN =\", sp.simplify(gamma_ppn.subs(beta, 1)))\n",
    "print(\"β_PPN =\", sp.simplify(beta_ppn.subs(beta, 1)))\n"
   ]
  },
  {
   "cell_type": "code",
   "execution_count": null,
   "id": "29543cce-0a5c-4cda-85a9-f5093f342633",
   "metadata": {},
   "outputs": [],
   "source": []
  }
 ],
 "metadata": {
  "kernelspec": {
   "display_name": "Python 3 (ipykernel)",
   "language": "python",
   "name": "python3"
  },
  "language_info": {
   "codemirror_mode": {
    "name": "ipython",
    "version": 3
   },
   "file_extension": ".py",
   "mimetype": "text/x-python",
   "name": "python",
   "nbconvert_exporter": "python",
   "pygments_lexer": "ipython3",
   "version": "3.11.11"
  }
 },
 "nbformat": 4,
 "nbformat_minor": 5
}
